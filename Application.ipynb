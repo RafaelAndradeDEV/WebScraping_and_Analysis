{
 "cells": [
  {
   "cell_type": "markdown",
   "id": "d3554bb9-7edb-4948-995d-9893df229445",
   "metadata": {},
   "source": [
    "# Analyzing Historical Stock/Revenue Data and Building a Dashboard"
   ]
  },
  {
   "cell_type": "markdown",
   "id": "b68436bd-d689-45d4-b79b-fc4b64d43fea",
   "metadata": {},
   "source": [
    "## Importing Libraries"
   ]
  },
  {
   "cell_type": "code",
   "execution_count": 2,
   "id": "9e3f858b-1ed1-473d-9dc6-fbb3a3761934",
   "metadata": {},
   "outputs": [],
   "source": [
    "import yfinance as yf\n",
    "import pandas as pd\n",
    "import json\n",
    "import requests\n",
    "from bs4 import BeautifulSoup"
   ]
  },
  {
   "cell_type": "markdown",
   "id": "2bfb5dca-ad5a-409b-b1d4-324d8c759ff9",
   "metadata": {},
   "source": [
    "## Extracting Tesla Stock Data Using yfinance"
   ]
  },
  {
   "cell_type": "code",
   "execution_count": 12,
   "id": "4519fe02-8dee-4ad1-bc1c-90df136cd950",
   "metadata": {},
   "outputs": [
    {
     "data": {
      "text/html": [
       "<div>\n",
       "<style scoped>\n",
       "    .dataframe tbody tr th:only-of-type {\n",
       "        vertical-align: middle;\n",
       "    }\n",
       "\n",
       "    .dataframe tbody tr th {\n",
       "        vertical-align: top;\n",
       "    }\n",
       "\n",
       "    .dataframe thead th {\n",
       "        text-align: right;\n",
       "    }\n",
       "</style>\n",
       "<table border=\"1\" class=\"dataframe\">\n",
       "  <thead>\n",
       "    <tr style=\"text-align: right;\">\n",
       "      <th></th>\n",
       "      <th>Open</th>\n",
       "      <th>High</th>\n",
       "      <th>Low</th>\n",
       "      <th>Close</th>\n",
       "      <th>Volume</th>\n",
       "      <th>Dividends</th>\n",
       "      <th>Stock Splits</th>\n",
       "    </tr>\n",
       "    <tr>\n",
       "      <th>Date</th>\n",
       "      <th></th>\n",
       "      <th></th>\n",
       "      <th></th>\n",
       "      <th></th>\n",
       "      <th></th>\n",
       "      <th></th>\n",
       "      <th></th>\n",
       "    </tr>\n",
       "  </thead>\n",
       "  <tbody>\n",
       "    <tr>\n",
       "      <th>2010-06-29 00:00:00-04:00</th>\n",
       "      <td>1.266667</td>\n",
       "      <td>1.666667</td>\n",
       "      <td>1.169333</td>\n",
       "      <td>1.592667</td>\n",
       "      <td>281494500</td>\n",
       "      <td>0.0</td>\n",
       "      <td>0.0</td>\n",
       "    </tr>\n",
       "    <tr>\n",
       "      <th>2010-06-30 00:00:00-04:00</th>\n",
       "      <td>1.719333</td>\n",
       "      <td>2.028000</td>\n",
       "      <td>1.553333</td>\n",
       "      <td>1.588667</td>\n",
       "      <td>257806500</td>\n",
       "      <td>0.0</td>\n",
       "      <td>0.0</td>\n",
       "    </tr>\n",
       "    <tr>\n",
       "      <th>2010-07-01 00:00:00-04:00</th>\n",
       "      <td>1.666667</td>\n",
       "      <td>1.728000</td>\n",
       "      <td>1.351333</td>\n",
       "      <td>1.464000</td>\n",
       "      <td>123282000</td>\n",
       "      <td>0.0</td>\n",
       "      <td>0.0</td>\n",
       "    </tr>\n",
       "    <tr>\n",
       "      <th>2010-07-02 00:00:00-04:00</th>\n",
       "      <td>1.533333</td>\n",
       "      <td>1.540000</td>\n",
       "      <td>1.247333</td>\n",
       "      <td>1.280000</td>\n",
       "      <td>77097000</td>\n",
       "      <td>0.0</td>\n",
       "      <td>0.0</td>\n",
       "    </tr>\n",
       "    <tr>\n",
       "      <th>2010-07-06 00:00:00-04:00</th>\n",
       "      <td>1.333333</td>\n",
       "      <td>1.333333</td>\n",
       "      <td>1.055333</td>\n",
       "      <td>1.074000</td>\n",
       "      <td>103003500</td>\n",
       "      <td>0.0</td>\n",
       "      <td>0.0</td>\n",
       "    </tr>\n",
       "  </tbody>\n",
       "</table>\n",
       "</div>"
      ],
      "text/plain": [
       "                               Open      High       Low     Close     Volume  \\\n",
       "Date                                                                           \n",
       "2010-06-29 00:00:00-04:00  1.266667  1.666667  1.169333  1.592667  281494500   \n",
       "2010-06-30 00:00:00-04:00  1.719333  2.028000  1.553333  1.588667  257806500   \n",
       "2010-07-01 00:00:00-04:00  1.666667  1.728000  1.351333  1.464000  123282000   \n",
       "2010-07-02 00:00:00-04:00  1.533333  1.540000  1.247333  1.280000   77097000   \n",
       "2010-07-06 00:00:00-04:00  1.333333  1.333333  1.055333  1.074000  103003500   \n",
       "\n",
       "                           Dividends  Stock Splits  \n",
       "Date                                                \n",
       "2010-06-29 00:00:00-04:00        0.0           0.0  \n",
       "2010-06-30 00:00:00-04:00        0.0           0.0  \n",
       "2010-07-01 00:00:00-04:00        0.0           0.0  \n",
       "2010-07-02 00:00:00-04:00        0.0           0.0  \n",
       "2010-07-06 00:00:00-04:00        0.0           0.0  "
      ]
     },
     "execution_count": 12,
     "metadata": {},
     "output_type": "execute_result"
    }
   ],
   "source": [
    "tesla = yf.Ticker(\"TSLA\")\n",
    "tesla_stock = tesla.history(period=\"max\")\n",
    "tesla_stock.head()"
   ]
  },
  {
   "cell_type": "markdown",
   "id": "7ff258dc-172d-4497-a706-dda237bc118c",
   "metadata": {},
   "source": [
    "## Extracting Tesla Revenue Data Using Webscraping"
   ]
  },
  {
   "cell_type": "markdown",
   "id": "cca26f59-4b44-4c8b-8703-4e95cfdc7970",
   "metadata": {},
   "source": [
    "### First way:"
   ]
  },
  {
   "cell_type": "code",
   "execution_count": 21,
   "id": "4248c902-c990-4643-a678-fdb098cdd72e",
   "metadata": {},
   "outputs": [
    {
     "name": "stdout",
     "output_type": "stream",
     "text": [
      "    Year  Revenue   Change\n",
      "0   2023    86.03    5.61%\n",
      "1   2022    81.46   51.35%\n",
      "2   2021    53.82   70.67%\n",
      "3   2020    31.53   28.31%\n",
      "4   2019    24.57   14.52%\n",
      "5   2018    21.46   82.51%\n",
      "6   2017    11.75   67.98%\n",
      "7   2016     7.00   73.01%\n",
      "8   2015     4.04    26.5%\n",
      "9   2014     3.19   58.85%\n",
      "10  2013     2.01  387.23%\n",
      "11  2012     0.41  102.34%\n",
      "12  2011     0.20   74.95%\n",
      "13  2010     0.11    4.29%\n",
      "14  2009     0.11         \n"
     ]
    }
   ],
   "source": [
    "Url = \"https://companiesmarketcap.com/tesla/revenue/\"\n",
    "data = requests.get(Url).text\n",
    "soup = BeautifulSoup(data, \"html5lib\")\n",
    "columns = []\n",
    "for row in soup.find(\"tr\").find_all(\"th\"):\n",
    "    columns.append(row.text)\n",
    "    tesla_data_frame = pd.DataFrame(columns=columns)\n",
    "\n",
    "for row in soup.find(\"tbody\").find_all(\"tr\"):\n",
    "    col = row.find_all(\"td\")\n",
    "    revenue = float((col[1].text)[1:6])\n",
    "    change = col[2].text\n",
    "    year = int((col[0].text)[0:4])\n",
    "    tesla_data_frame = tesla_data_frame.append({\"Year\":year, \"Revenue\":revenue, \"Change\":change}, ignore_index=True)\n",
    "\n",
    "print(tesla_data_frame)"
   ]
  },
  {
   "cell_type": "markdown",
   "id": "a341a42c-3cd5-473b-871b-80cb32dad737",
   "metadata": {},
   "source": [
    "### Second way:"
   ]
  },
  {
   "cell_type": "code",
   "execution_count": 22,
   "id": "5727b43d-bc3c-40cd-b311-14386387271f",
   "metadata": {},
   "outputs": [
    {
     "data": {
      "text/html": [
       "<div>\n",
       "<style scoped>\n",
       "    .dataframe tbody tr th:only-of-type {\n",
       "        vertical-align: middle;\n",
       "    }\n",
       "\n",
       "    .dataframe tbody tr th {\n",
       "        vertical-align: top;\n",
       "    }\n",
       "\n",
       "    .dataframe thead th {\n",
       "        text-align: right;\n",
       "    }\n",
       "</style>\n",
       "<table border=\"1\" class=\"dataframe\">\n",
       "  <thead>\n",
       "    <tr style=\"text-align: right;\">\n",
       "      <th></th>\n",
       "      <th>Year</th>\n",
       "      <th>Revenue</th>\n",
       "      <th>Change</th>\n",
       "    </tr>\n",
       "  </thead>\n",
       "  <tbody>\n",
       "    <tr>\n",
       "      <th>10</th>\n",
       "      <td>2013</td>\n",
       "      <td>2.01</td>\n",
       "      <td>387.23%</td>\n",
       "    </tr>\n",
       "    <tr>\n",
       "      <th>11</th>\n",
       "      <td>2012</td>\n",
       "      <td>0.41</td>\n",
       "      <td>102.34%</td>\n",
       "    </tr>\n",
       "    <tr>\n",
       "      <th>12</th>\n",
       "      <td>2011</td>\n",
       "      <td>0.2</td>\n",
       "      <td>74.95%</td>\n",
       "    </tr>\n",
       "    <tr>\n",
       "      <th>13</th>\n",
       "      <td>2010</td>\n",
       "      <td>0.11</td>\n",
       "      <td>4.29%</td>\n",
       "    </tr>\n",
       "    <tr>\n",
       "      <th>14</th>\n",
       "      <td>2009</td>\n",
       "      <td>0.11</td>\n",
       "      <td>NaN</td>\n",
       "    </tr>\n",
       "  </tbody>\n",
       "</table>\n",
       "</div>"
      ],
      "text/plain": [
       "    Year Revenue   Change\n",
       "10  2013    2.01  387.23%\n",
       "11  2012    0.41  102.34%\n",
       "12  2011     0.2   74.95%\n",
       "13  2010    0.11    4.29%\n",
       "14  2009    0.11      NaN"
      ]
     },
     "execution_count": 22,
     "metadata": {},
     "output_type": "execute_result"
    }
   ],
   "source": [
    "read_html_pandas_data = pd.read_html(str(soup))\n",
    "tesla_data_frame = read_html_pandas_data[0]\n",
    "for index, row in enumerate(tesla_data_frame[\"Year\"]):\n",
    "    year = int(row[0:4])\n",
    "    tesla_data_frame[\"Year\"][index] = year\n",
    "\n",
    "for index, row in enumerate(tesla_data_frame[\"Revenue\"]):\n",
    "    revenue = float(row[1:6])\n",
    "    tesla_data_frame[\"Revenue\"][index] = revenue\n",
    "tesla_data_frame.tail()"
   ]
  },
  {
   "cell_type": "markdown",
   "id": "0a3d79d8-5a85-4fb7-81df-e5daf297fa23",
   "metadata": {},
   "source": [
    "## Extracting GameStop Stock Data Using yfinance"
   ]
  },
  {
   "cell_type": "code",
   "execution_count": 23,
   "id": "9174208e-4ead-430e-9c9f-f1f6c7a0ccfa",
   "metadata": {},
   "outputs": [
    {
     "data": {
      "text/html": [
       "<div>\n",
       "<style scoped>\n",
       "    .dataframe tbody tr th:only-of-type {\n",
       "        vertical-align: middle;\n",
       "    }\n",
       "\n",
       "    .dataframe tbody tr th {\n",
       "        vertical-align: top;\n",
       "    }\n",
       "\n",
       "    .dataframe thead th {\n",
       "        text-align: right;\n",
       "    }\n",
       "</style>\n",
       "<table border=\"1\" class=\"dataframe\">\n",
       "  <thead>\n",
       "    <tr style=\"text-align: right;\">\n",
       "      <th></th>\n",
       "      <th>Open</th>\n",
       "      <th>High</th>\n",
       "      <th>Low</th>\n",
       "      <th>Close</th>\n",
       "      <th>Volume</th>\n",
       "      <th>Dividends</th>\n",
       "      <th>Stock Splits</th>\n",
       "    </tr>\n",
       "    <tr>\n",
       "      <th>Date</th>\n",
       "      <th></th>\n",
       "      <th></th>\n",
       "      <th></th>\n",
       "      <th></th>\n",
       "      <th></th>\n",
       "      <th></th>\n",
       "      <th></th>\n",
       "    </tr>\n",
       "  </thead>\n",
       "  <tbody>\n",
       "    <tr>\n",
       "      <th>2002-02-13 00:00:00-05:00</th>\n",
       "      <td>1.620128</td>\n",
       "      <td>1.693350</td>\n",
       "      <td>1.603296</td>\n",
       "      <td>1.691667</td>\n",
       "      <td>76216000</td>\n",
       "      <td>0.0</td>\n",
       "      <td>0.0</td>\n",
       "    </tr>\n",
       "    <tr>\n",
       "      <th>2002-02-14 00:00:00-05:00</th>\n",
       "      <td>1.712707</td>\n",
       "      <td>1.716074</td>\n",
       "      <td>1.670626</td>\n",
       "      <td>1.683250</td>\n",
       "      <td>11021600</td>\n",
       "      <td>0.0</td>\n",
       "      <td>0.0</td>\n",
       "    </tr>\n",
       "    <tr>\n",
       "      <th>2002-02-15 00:00:00-05:00</th>\n",
       "      <td>1.683250</td>\n",
       "      <td>1.687458</td>\n",
       "      <td>1.658002</td>\n",
       "      <td>1.674834</td>\n",
       "      <td>8389600</td>\n",
       "      <td>0.0</td>\n",
       "      <td>0.0</td>\n",
       "    </tr>\n",
       "    <tr>\n",
       "      <th>2002-02-19 00:00:00-05:00</th>\n",
       "      <td>1.666418</td>\n",
       "      <td>1.666418</td>\n",
       "      <td>1.578047</td>\n",
       "      <td>1.607504</td>\n",
       "      <td>7410400</td>\n",
       "      <td>0.0</td>\n",
       "      <td>0.0</td>\n",
       "    </tr>\n",
       "    <tr>\n",
       "      <th>2002-02-20 00:00:00-05:00</th>\n",
       "      <td>1.615921</td>\n",
       "      <td>1.662210</td>\n",
       "      <td>1.603296</td>\n",
       "      <td>1.662210</td>\n",
       "      <td>6892800</td>\n",
       "      <td>0.0</td>\n",
       "      <td>0.0</td>\n",
       "    </tr>\n",
       "  </tbody>\n",
       "</table>\n",
       "</div>"
      ],
      "text/plain": [
       "                               Open      High       Low     Close    Volume  \\\n",
       "Date                                                                          \n",
       "2002-02-13 00:00:00-05:00  1.620128  1.693350  1.603296  1.691667  76216000   \n",
       "2002-02-14 00:00:00-05:00  1.712707  1.716074  1.670626  1.683250  11021600   \n",
       "2002-02-15 00:00:00-05:00  1.683250  1.687458  1.658002  1.674834   8389600   \n",
       "2002-02-19 00:00:00-05:00  1.666418  1.666418  1.578047  1.607504   7410400   \n",
       "2002-02-20 00:00:00-05:00  1.615921  1.662210  1.603296  1.662210   6892800   \n",
       "\n",
       "                           Dividends  Stock Splits  \n",
       "Date                                                \n",
       "2002-02-13 00:00:00-05:00        0.0           0.0  \n",
       "2002-02-14 00:00:00-05:00        0.0           0.0  \n",
       "2002-02-15 00:00:00-05:00        0.0           0.0  \n",
       "2002-02-19 00:00:00-05:00        0.0           0.0  \n",
       "2002-02-20 00:00:00-05:00        0.0           0.0  "
      ]
     },
     "execution_count": 23,
     "metadata": {},
     "output_type": "execute_result"
    }
   ],
   "source": [
    "GameStop = yf.Ticker(\"GME\")\n",
    "GameStop_stock = GameStop.history(period=\"max\")\n",
    "GameStop_stock.head()"
   ]
  },
  {
   "cell_type": "markdown",
   "id": "60dc9d8b-bb4f-4161-8538-c5f60f579a7f",
   "metadata": {},
   "source": [
    "## Extracting GameStop Revenue Data Using Webscraping"
   ]
  },
  {
   "cell_type": "markdown",
   "id": "c2490b86-8720-4bb4-befd-24c719c9c81e",
   "metadata": {},
   "source": [
    "### First way:"
   ]
  },
  {
   "cell_type": "code",
   "execution_count": 32,
   "id": "98bf6e83-6ae7-4e1a-aaee-2cd7538b3656",
   "metadata": {},
   "outputs": [
    {
     "data": {
      "text/html": [
       "<div>\n",
       "<style scoped>\n",
       "    .dataframe tbody tr th:only-of-type {\n",
       "        vertical-align: middle;\n",
       "    }\n",
       "\n",
       "    .dataframe tbody tr th {\n",
       "        vertical-align: top;\n",
       "    }\n",
       "\n",
       "    .dataframe thead th {\n",
       "        text-align: right;\n",
       "    }\n",
       "</style>\n",
       "<table border=\"1\" class=\"dataframe\">\n",
       "  <thead>\n",
       "    <tr style=\"text-align: right;\">\n",
       "      <th></th>\n",
       "      <th>Year</th>\n",
       "      <th>Market cap</th>\n",
       "      <th>Change</th>\n",
       "    </tr>\n",
       "  </thead>\n",
       "  <tbody>\n",
       "    <tr>\n",
       "      <th>17</th>\n",
       "      <td>2006</td>\n",
       "      <td>4.17</td>\n",
       "      <td>81.66%</td>\n",
       "    </tr>\n",
       "    <tr>\n",
       "      <th>18</th>\n",
       "      <td>2005</td>\n",
       "      <td>2.30</td>\n",
       "      <td>102.8%</td>\n",
       "    </tr>\n",
       "    <tr>\n",
       "      <th>19</th>\n",
       "      <td>2004</td>\n",
       "      <td>1.13</td>\n",
       "      <td>32.93%</td>\n",
       "    </tr>\n",
       "    <tr>\n",
       "      <th>20</th>\n",
       "      <td>2003</td>\n",
       "      <td>0.85</td>\n",
       "      <td>52.64%</td>\n",
       "    </tr>\n",
       "    <tr>\n",
       "      <th>21</th>\n",
       "      <td>2002</td>\n",
       "      <td>0.55</td>\n",
       "      <td></td>\n",
       "    </tr>\n",
       "  </tbody>\n",
       "</table>\n",
       "</div>"
      ],
      "text/plain": [
       "    Year  Market cap  Change\n",
       "17  2006        4.17  81.66%\n",
       "18  2005        2.30  102.8%\n",
       "19  2004        1.13  32.93%\n",
       "20  2003        0.85  52.64%\n",
       "21  2002        0.55        "
      ]
     },
     "execution_count": 32,
     "metadata": {},
     "output_type": "execute_result"
    }
   ],
   "source": [
    "URL = \"https://companiesmarketcap.com/gamestop/marketcap/\"\n",
    "data = requests.get(URL).text\n",
    "soup = BeautifulSoup(data, \"html5lib\")\n",
    "columns = []\n",
    "for row in soup.find(\"tr\").find_all(\"th\"):\n",
    "    columns.append(row.text)\n",
    "    GameStop_data_frame = pd.DataFrame(columns=columns)\n",
    "\n",
    "\n",
    "for row in soup.find(\"tbody\").find_all(\"tr\"):\n",
    "    col = row.find_all(\"td\")\n",
    "    year = int((col[0].text)[0:4])\n",
    "    Market_Cap = float((col[1].text)[1:6])\n",
    "    change = col[2].text\n",
    "    GameStop_data_frame = GameStop_data_frame.append({\"Year\":year, \"Market cap\":Market_Cap, \"Change\":change}, ignore_index=True)\n",
    "\n",
    "GameStop_data_frame.tail()\n"
   ]
  },
  {
   "cell_type": "markdown",
   "id": "9ceeaf16-7101-46fa-9187-e4db2baa2187",
   "metadata": {},
   "source": [
    "### Second way:"
   ]
  },
  {
   "cell_type": "code",
   "execution_count": 15,
   "id": "ea22b986-3f4d-4fb8-9879-76eb23ae04c6",
   "metadata": {},
   "outputs": [
    {
     "name": "stderr",
     "output_type": "stream",
     "text": [
      "<ipython-input-15-ddc97c901c52>:5: SettingWithCopyWarning: \n",
      "A value is trying to be set on a copy of a slice from a DataFrame\n",
      "\n",
      "See the caveats in the documentation: https://pandas.pydata.org/pandas-docs/stable/user_guide/indexing.html#returning-a-view-versus-a-copy\n",
      "  GameStop_data_frame[\"Market cap\"][index] = market_cap\n"
     ]
    },
    {
     "data": {
      "text/html": [
       "<div>\n",
       "<style scoped>\n",
       "    .dataframe tbody tr th:only-of-type {\n",
       "        vertical-align: middle;\n",
       "    }\n",
       "\n",
       "    .dataframe tbody tr th {\n",
       "        vertical-align: top;\n",
       "    }\n",
       "\n",
       "    .dataframe thead th {\n",
       "        text-align: right;\n",
       "    }\n",
       "</style>\n",
       "<table border=\"1\" class=\"dataframe\">\n",
       "  <thead>\n",
       "    <tr style=\"text-align: right;\">\n",
       "      <th></th>\n",
       "      <th>Year</th>\n",
       "      <th>Market cap</th>\n",
       "      <th>Change</th>\n",
       "    </tr>\n",
       "  </thead>\n",
       "  <tbody>\n",
       "    <tr>\n",
       "      <th>0</th>\n",
       "      <td>2023</td>\n",
       "      <td>7.14</td>\n",
       "      <td>27.02%</td>\n",
       "    </tr>\n",
       "    <tr>\n",
       "      <th>1</th>\n",
       "      <td>2022</td>\n",
       "      <td>5.62</td>\n",
       "      <td>-50.37%</td>\n",
       "    </tr>\n",
       "    <tr>\n",
       "      <th>2</th>\n",
       "      <td>2021</td>\n",
       "      <td>11.32</td>\n",
       "      <td>762.21%</td>\n",
       "    </tr>\n",
       "    <tr>\n",
       "      <th>3</th>\n",
       "      <td>2020</td>\n",
       "      <td>1.31</td>\n",
       "      <td>227.85%</td>\n",
       "    </tr>\n",
       "    <tr>\n",
       "      <th>4</th>\n",
       "      <td>2019</td>\n",
       "      <td>0.4</td>\n",
       "      <td>-68.85%</td>\n",
       "    </tr>\n",
       "    <tr>\n",
       "      <th>5</th>\n",
       "      <td>2018</td>\n",
       "      <td>1.28</td>\n",
       "      <td>-29.23%</td>\n",
       "    </tr>\n",
       "    <tr>\n",
       "      <th>6</th>\n",
       "      <td>2017</td>\n",
       "      <td>1.81</td>\n",
       "      <td>-29.34%</td>\n",
       "    </tr>\n",
       "    <tr>\n",
       "      <th>7</th>\n",
       "      <td>2016</td>\n",
       "      <td>2.57</td>\n",
       "      <td>-12.32%</td>\n",
       "    </tr>\n",
       "    <tr>\n",
       "      <th>8</th>\n",
       "      <td>2015</td>\n",
       "      <td>2.93</td>\n",
       "      <td>-19.98%</td>\n",
       "    </tr>\n",
       "    <tr>\n",
       "      <th>9</th>\n",
       "      <td>2014</td>\n",
       "      <td>3.66</td>\n",
       "      <td>-35.71%</td>\n",
       "    </tr>\n",
       "    <tr>\n",
       "      <th>10</th>\n",
       "      <td>2013</td>\n",
       "      <td>5.7</td>\n",
       "      <td>87.63%</td>\n",
       "    </tr>\n",
       "    <tr>\n",
       "      <th>11</th>\n",
       "      <td>2012</td>\n",
       "      <td>3.04</td>\n",
       "      <td>-7.64%</td>\n",
       "    </tr>\n",
       "    <tr>\n",
       "      <th>12</th>\n",
       "      <td>2011</td>\n",
       "      <td>3.29</td>\n",
       "      <td>-4.97%</td>\n",
       "    </tr>\n",
       "    <tr>\n",
       "      <th>13</th>\n",
       "      <td>2010</td>\n",
       "      <td>3.46</td>\n",
       "      <td>-4.18%</td>\n",
       "    </tr>\n",
       "    <tr>\n",
       "      <th>14</th>\n",
       "      <td>2009</td>\n",
       "      <td>3.61</td>\n",
       "      <td>1.91%</td>\n",
       "    </tr>\n",
       "    <tr>\n",
       "      <th>15</th>\n",
       "      <td>2008</td>\n",
       "      <td>3.54</td>\n",
       "      <td>-64.52%</td>\n",
       "    </tr>\n",
       "    <tr>\n",
       "      <th>16</th>\n",
       "      <td>2007</td>\n",
       "      <td>9.99</td>\n",
       "      <td>139.2%</td>\n",
       "    </tr>\n",
       "    <tr>\n",
       "      <th>17</th>\n",
       "      <td>2006</td>\n",
       "      <td>4.17</td>\n",
       "      <td>81.66%</td>\n",
       "    </tr>\n",
       "    <tr>\n",
       "      <th>18</th>\n",
       "      <td>2005</td>\n",
       "      <td>2.3</td>\n",
       "      <td>102.8%</td>\n",
       "    </tr>\n",
       "    <tr>\n",
       "      <th>19</th>\n",
       "      <td>2004</td>\n",
       "      <td>1.13</td>\n",
       "      <td>32.93%</td>\n",
       "    </tr>\n",
       "    <tr>\n",
       "      <th>20</th>\n",
       "      <td>2003</td>\n",
       "      <td>0.85</td>\n",
       "      <td>52.64%</td>\n",
       "    </tr>\n",
       "    <tr>\n",
       "      <th>21</th>\n",
       "      <td>2002</td>\n",
       "      <td>0.55</td>\n",
       "      <td>NaN</td>\n",
       "    </tr>\n",
       "  </tbody>\n",
       "</table>\n",
       "</div>"
      ],
      "text/plain": [
       "    Year Market cap   Change\n",
       "0   2023       7.14   27.02%\n",
       "1   2022       5.62  -50.37%\n",
       "2   2021      11.32  762.21%\n",
       "3   2020       1.31  227.85%\n",
       "4   2019        0.4  -68.85%\n",
       "5   2018       1.28  -29.23%\n",
       "6   2017       1.81  -29.34%\n",
       "7   2016       2.57  -12.32%\n",
       "8   2015       2.93  -19.98%\n",
       "9   2014       3.66  -35.71%\n",
       "10  2013        5.7   87.63%\n",
       "11  2012       3.04   -7.64%\n",
       "12  2011       3.29   -4.97%\n",
       "13  2010       3.46   -4.18%\n",
       "14  2009       3.61    1.91%\n",
       "15  2008       3.54  -64.52%\n",
       "16  2007       9.99   139.2%\n",
       "17  2006       4.17   81.66%\n",
       "18  2005        2.3   102.8%\n",
       "19  2004       1.13   32.93%\n",
       "20  2003       0.85   52.64%\n",
       "21  2002       0.55      NaN"
      ]
     },
     "execution_count": 15,
     "metadata": {},
     "output_type": "execute_result"
    }
   ],
   "source": [
    "html_read_pandas_data = pd.read_html(str(soup))\n",
    "GameStop_data_frame = html_read_pandas_data[0]\n",
    "for index, row in enumerate(GameStop_data_frame[\"Market cap\"]):\n",
    "    market_cap = float(row[1:6])\n",
    "    GameStop_data_frame[\"Market cap\"][index] = market_cap\n",
    "GameStop_data_frame"
   ]
  },
  {
   "cell_type": "markdown",
   "id": "d4a73fa8-9feb-4f33-877a-a92176f043d7",
   "metadata": {},
   "source": [
    "## Tesla Stock and Revenue Dashboard"
   ]
  },
  {
   "cell_type": "code",
   "execution_count": 38,
   "id": "9f8a40ca-a1c1-43a2-9787-30c0eb71b739",
   "metadata": {},
   "outputs": [
    {
     "data": {
      "text/plain": [
       "<Axes: title={'center': 'TESLA REVENUE'}, xlabel='Year', ylabel='Value in billions $'>"
      ]
     },
     "execution_count": 38,
     "metadata": {},
     "output_type": "execute_result"
    },
    {
     "data": {
      "image/png": "[encoded data removed]",
      "text/plain": [
       "<Figure size 432x288 with 1 Axes>"
      ]
     },
     "metadata": {
      "needs_background": "light"
     },
     "output_type": "display_data"
    },
    {
     "data": {
      "image/png": "[encoded data removed]",
      "text/plain": [
       "<Figure size 432x288 with 1 Axes>"
      ]
     },
     "metadata": {
      "needs_background": "light"
     },
     "output_type": "display_data"
    }
   ],
   "source": [
    "tesla_stock.reset_index(inplace=True)\n",
    "tesla_stock.plot(x=\"Date\", y=\"Open\", title=\"TESLA STOCK\", ylabel=\"Value in $\" )\n",
    "#tesla_data_frame.reset_index(inplace=True)\n",
    "tesla_data_frame.plot(x=\"Year\", y=\"Revenue\", title=\"TESLA REVENUE\", ylabel=\"Value in billions $\" )"
   ]
  },
  {
   "cell_type": "markdown",
   "id": "e0c2a61a-9d7d-4a62-9447-a0ff929dec10",
   "metadata": {},
   "source": [
    "## GameStop Stock and Revenue Dashboard"
   ]
  },
  {
   "cell_type": "code",
   "execution_count": 37,
   "id": "a1a6ba1a-58ff-4e07-bbbd-f5cf4e8f1336",
   "metadata": {},
   "outputs": [
    {
     "data": {
      "text/plain": [
       "<Axes: title={'center': 'GameStop Market Cap'}, xlabel='Year', ylabel='Value in billions $'>"
      ]
     },
     "execution_count": 37,
     "metadata": {},
     "output_type": "execute_result"
    },
    {
     "data": {
      "image/png": "[encoded data removed]",
      "text/plain": [
       "<Figure size 432x288 with 1 Axes>"
      ]
     },
     "metadata": {
      "needs_background": "light"
     },
     "output_type": "display_data"
    },
    {
     "data": {
      "image/png": "[encoded data removed]",
      "text/plain": [
       "<Figure size 432x288 with 1 Axes>"
      ]
     },
     "metadata": {
      "needs_background": "light"
     },
     "output_type": "display_data"
    }
   ],
   "source": [
    "GameStop_stock.reset_index(inplace=True)\n",
    "GameStop_stock.plot(x=\"Date\", y=\"Open\", title=\"GameStop Stock\", ylabel=\"Value in $\")\n",
    "GameStop_data_frame.plot(x=\"Year\", y=\"Market cap\", title=\"GameStop Market Cap\", ylabel=\"Value in billions $\")"
   ]
  },
  {
   "cell_type": "code",
   "execution_count": null,
   "id": "b67d7336-03a1-41f7-8313-654cc96f7edc",
   "metadata": {},
   "outputs": [],
   "source": []
  }
 ],
 "metadata": {
  "kernelspec": {
   "display_name": "Python 3",
   "language": "python",
   "name": "python3"
  },
  "language_info": {
   "codemirror_mode": {
    "name": "ipython",
    "version": 3
   },
   "file_extension": ".py",
   "mimetype": "text/x-python",
   "name": "python",
   "nbconvert_exporter": "python",
   "pygments_lexer": "ipython3",
   "version": "3.9.13"
  }
 },
 "nbformat": 4,
 "nbformat_minor": 5
}
